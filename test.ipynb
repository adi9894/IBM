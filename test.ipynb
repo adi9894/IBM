{
    "cells": [
        {
            "cell_type": "code",
            "execution_count": 3,
            "metadata": {},
            "outputs": [
                {
                    "data": {
                        "text/html": "<div>\n<style scoped>\n    .dataframe tbody tr th:only-of-type {\n        vertical-align: middle;\n    }\n\n    .dataframe tbody tr th {\n        vertical-align: top;\n    }\n\n    .dataframe thead th {\n        text-align: right;\n    }\n</style>\n<table border=\"1\" class=\"dataframe\">\n  <thead>\n    <tr style=\"text-align: right;\">\n      <th></th>\n      <th>Unnamed: 0</th>\n      <th>Unnamed: 1</th>\n      <th>Unnamed: 2</th>\n      <th>Unnamed: 3</th>\n      <th>Unnamed: 4</th>\n      <th>Unnamed: 5</th>\n      <th>Unnamed: 6</th>\n      <th>Unnamed: 7</th>\n      <th>Unnamed: 8</th>\n      <th>Unnamed: 9</th>\n      <th>Unnamed: 10</th>\n      <th>Unnamed: 11</th>\n      <th>Unnamed: 12</th>\n      <th>Unnamed: 13</th>\n      <th>Unnamed: 14</th>\n      <th>Unnamed: 15</th>\n      <th>Unnamed: 16</th>\n      <th>Unnamed: 17</th>\n      <th>Unnamed: 18</th>\n      <th>Unnamed: 19</th>\n    </tr>\n  </thead>\n  <tbody>\n    <tr>\n      <th>0</th>\n      <td>Pos</td>\n      <td>Team</td>\n      <td>Seasons</td>\n      <td>Points</td>\n      <td>GamesPlayed</td>\n      <td>GamesWon</td>\n      <td>GamesDrawn</td>\n      <td>GamesLost</td>\n      <td>GoalsFor</td>\n      <td>GoalsAgainst</td>\n      <td>Champion</td>\n      <td>Runner-up</td>\n      <td>Third</td>\n      <td>Fourth</td>\n      <td>Fifth</td>\n      <td>Sixth</td>\n      <td>T</td>\n      <td>Debut</td>\n      <td>Since/LastApp</td>\n      <td>BestPosition</td>\n    </tr>\n    <tr>\n      <th>1</th>\n      <td>1</td>\n      <td>Real Madrid</td>\n      <td>86</td>\n      <td>4385</td>\n      <td>2762</td>\n      <td>1647</td>\n      <td>552</td>\n      <td>563</td>\n      <td>5947</td>\n      <td>3140</td>\n      <td>33</td>\n      <td>23</td>\n      <td>8</td>\n      <td>8</td>\n      <td>3</td>\n      <td>4</td>\n      <td>79</td>\n      <td>1929</td>\n      <td>1929</td>\n      <td>1</td>\n    </tr>\n    <tr>\n      <th>2</th>\n      <td>2</td>\n      <td>Barcelona</td>\n      <td>86</td>\n      <td>4262</td>\n      <td>2762</td>\n      <td>1581</td>\n      <td>573</td>\n      <td>608</td>\n      <td>5900</td>\n      <td>3114</td>\n      <td>25</td>\n      <td>25</td>\n      <td>12</td>\n      <td>12</td>\n      <td>4</td>\n      <td>6</td>\n      <td>83</td>\n      <td>1929</td>\n      <td>1929</td>\n      <td>1</td>\n    </tr>\n    <tr>\n      <th>3</th>\n      <td>3</td>\n      <td>Atletico Madrid</td>\n      <td>80</td>\n      <td>3442</td>\n      <td>2614</td>\n      <td>1241</td>\n      <td>598</td>\n      <td>775</td>\n      <td>4534</td>\n      <td>3309</td>\n      <td>10</td>\n      <td>8</td>\n      <td>16</td>\n      <td>9</td>\n      <td>7</td>\n      <td>6</td>\n      <td>56</td>\n      <td>1929</td>\n      <td>2002-03</td>\n      <td>1</td>\n    </tr>\n    <tr>\n      <th>4</th>\n      <td>4</td>\n      <td>Valencia</td>\n      <td>82</td>\n      <td>3386</td>\n      <td>2664</td>\n      <td>1187</td>\n      <td>616</td>\n      <td>861</td>\n      <td>4398</td>\n      <td>3469</td>\n      <td>6</td>\n      <td>6</td>\n      <td>10</td>\n      <td>11</td>\n      <td>10</td>\n      <td>7</td>\n      <td>50</td>\n      <td>1931-32</td>\n      <td>1987-88</td>\n      <td>1</td>\n    </tr>\n  </tbody>\n</table>\n</div>",
                        "text/plain": "  Unnamed: 0       Unnamed: 1 Unnamed: 2 Unnamed: 3   Unnamed: 4 Unnamed: 5  \\\n0        Pos             Team    Seasons     Points  GamesPlayed   GamesWon   \n1          1      Real Madrid         86       4385         2762       1647   \n2          2        Barcelona         86       4262         2762       1581   \n3          3  Atletico Madrid         80       3442         2614       1241   \n4          4         Valencia         82       3386         2664       1187   \n\n   Unnamed: 6 Unnamed: 7 Unnamed: 8    Unnamed: 9 Unnamed: 10 Unnamed: 11  \\\n0  GamesDrawn  GamesLost   GoalsFor  GoalsAgainst    Champion   Runner-up   \n1         552        563       5947          3140          33          23   \n2         573        608       5900          3114          25          25   \n3         598        775       4534          3309          10           8   \n4         616        861       4398          3469           6           6   \n\n  Unnamed: 12 Unnamed: 13 Unnamed: 14 Unnamed: 15 Unnamed: 16 Unnamed: 17  \\\n0       Third      Fourth       Fifth       Sixth           T       Debut   \n1           8           8           3           4          79        1929   \n2          12          12           4           6          83        1929   \n3          16           9           7           6          56        1929   \n4          10          11          10           7          50     1931-32   \n\n     Unnamed: 18   Unnamed: 19  \n0  Since/LastApp  BestPosition  \n1           1929             1  \n2           1929             1  \n3        2002-03             1  \n4        1987-88             1  "
                    },
                    "execution_count": 3,
                    "metadata": {},
                    "output_type": "execute_result"
                }
            ],
            "source": "# The code was removed by Watson Studio for sharing."
        },
        {
            "cell_type": "code",
            "execution_count": null,
            "metadata": {},
            "outputs": [],
            "source": ""
        }
    ],
    "metadata": {
        "kernelspec": {
            "display_name": "Python 3.6",
            "language": "python",
            "name": "python3"
        },
        "language_info": {
            "codemirror_mode": {
                "name": "ipython",
                "version": 3
            },
            "file_extension": ".py",
            "mimetype": "text/x-python",
            "name": "python",
            "nbconvert_exporter": "python",
            "pygments_lexer": "ipython3",
            "version": "3.6.9"
        }
    },
    "nbformat": 4,
    "nbformat_minor": 1
}